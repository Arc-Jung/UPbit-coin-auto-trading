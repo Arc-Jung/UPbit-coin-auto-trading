{
 "cells": [
  {
   "cell_type": "markdown",
   "metadata": {},
   "source": [
    "# 패키지 설치"
   ]
  },
  {
   "cell_type": "code",
   "execution_count": 61,
   "metadata": {},
   "outputs": [
    {
     "name": "stdout",
     "output_type": "stream",
     "text": [
      "Requirement already satisfied: jwt in /opt/anaconda3/lib/python3.7/site-packages (1.2.0)\n",
      "Requirement already satisfied: cryptography!=3.4.0,~=3.1 in /opt/anaconda3/lib/python3.7/site-packages (from jwt) (3.4.6)\n",
      "Requirement already satisfied: cffi>=1.12 in /opt/anaconda3/lib/python3.7/site-packages (from cryptography!=3.4.0,~=3.1->jwt) (1.14.0)\n",
      "Requirement already satisfied: pycparser in /opt/anaconda3/lib/python3.7/site-packages (from cffi>=1.12->cryptography!=3.4.0,~=3.1->jwt) (2.19)\n",
      "\u001b[33mWARNING: You are using pip version 20.1.1; however, version 21.1.1 is available.\n",
      "You should consider upgrading via the '/opt/anaconda3/bin/python -m pip install --upgrade pip' command.\u001b[0m\n",
      "Requirement already satisfied: PyJWT in /opt/anaconda3/lib/python3.7/site-packages (2.0.1)\n",
      "\u001b[33mWARNING: You are using pip version 20.1.1; however, version 21.1.1 is available.\n",
      "You should consider upgrading via the '/opt/anaconda3/bin/python -m pip install --upgrade pip' command.\u001b[0m\n",
      "Requirement already satisfied: pyupbit in /opt/anaconda3/lib/python3.7/site-packages (0.2.19)\n",
      "Requirement already satisfied: pandas in /opt/anaconda3/lib/python3.7/site-packages (from pyupbit) (1.0.1)\n",
      "Requirement already satisfied: websockets in /opt/anaconda3/lib/python3.7/site-packages (from pyupbit) (9.0.2)\n",
      "Requirement already satisfied: pyjwt>=2.0.0 in /opt/anaconda3/lib/python3.7/site-packages (from pyupbit) (2.0.1)\n",
      "Requirement already satisfied: requests in /opt/anaconda3/lib/python3.7/site-packages (from pyupbit) (2.23.0)\n",
      "Requirement already satisfied: python-dateutil>=2.6.1 in /opt/anaconda3/lib/python3.7/site-packages (from pandas->pyupbit) (2.8.0)\n",
      "Requirement already satisfied: numpy>=1.13.3 in /opt/anaconda3/lib/python3.7/site-packages (from pandas->pyupbit) (1.18.1)\n",
      "Requirement already satisfied: pytz>=2017.2 in /opt/anaconda3/lib/python3.7/site-packages (from pandas->pyupbit) (2019.3)\n",
      "Requirement already satisfied: chardet<4,>=3.0.2 in /opt/anaconda3/lib/python3.7/site-packages (from requests->pyupbit) (3.0.4)\n",
      "Requirement already satisfied: urllib3!=1.25.0,!=1.25.1,<1.26,>=1.21.1 in /opt/anaconda3/lib/python3.7/site-packages (from requests->pyupbit) (1.25.11)\n",
      "Requirement already satisfied: idna<3,>=2.5 in /opt/anaconda3/lib/python3.7/site-packages (from requests->pyupbit) (2.10)\n",
      "Requirement already satisfied: certifi>=2017.4.17 in /opt/anaconda3/lib/python3.7/site-packages (from requests->pyupbit) (2020.12.5)\n",
      "Requirement already satisfied: six>=1.5 in /opt/anaconda3/lib/python3.7/site-packages (from python-dateutil>=2.6.1->pandas->pyupbit) (1.15.0)\n",
      "\u001b[33mWARNING: You are using pip version 20.1.1; however, version 21.1.1 is available.\n",
      "You should consider upgrading via the '/opt/anaconda3/bin/python -m pip install --upgrade pip' command.\u001b[0m\n"
     ]
    }
   ],
   "source": [
    "!pip3 install jwt\n",
    "!pip3 install PyJWT\n",
    "!pip3 install pyupbit"
   ]
  },
  {
   "cell_type": "markdown",
   "metadata": {},
   "source": [
    "# 참조\n",
    "- 링크를 통하여 API Key 발급\n",
    "> https://upbit.com/service_center/open_api_guide\n",
    "- API Reference\n",
    "> https://docs.upbit.com/reference\n",
    "- 파이썬을 이용한 비트코인 자동매매 \n",
    "> https://github.com/sharebook-kr/book-cryptocurrency\n",
    "> https://wikidocs.net/book/1665\n",
    "- 파이썬 비트코인 투자 자동화 강의 코드\n",
    "> https://github.com/youtube-jocoding/pyupbit-autotrade\n",
    "\n",
    "### 해당 어플리케이션은 아직 미완성이므로 참조용으로만 사용하시길 바랍니다. 모든 투자는 본인의 선택이며 투자 손실에 대한 책임은 본인에게 있습니다."
   ]
  },
  {
   "cell_type": "code",
   "execution_count": 154,
   "metadata": {},
   "outputs": [],
   "source": [
    "access_key = '<YOUR ACCESSKEY>' # <YOUR ACCESSKEY> 경고 : 외부 노출 주의!!!\n",
    "secret_key = '<YOUR SECRETKEY>' # <YOUR SECRETKEY> 경고 : 외부 노출 주의!!!\n",
    "server_url = 'https://api.upbit.com'"
   ]
  },
  {
   "cell_type": "code",
   "execution_count": 155,
   "metadata": {},
   "outputs": [],
   "source": [
    "import time\n",
    "import pyupbit\n",
    "import datetime\n",
    "\n",
    "access = access_key\n",
    "secret = secret_key"
   ]
  },
  {
   "cell_type": "code",
   "execution_count": 129,
   "metadata": {},
   "outputs": [
    {
     "name": "stdout",
     "output_type": "stream",
     "text": [
      "Login Success\n"
     ]
    }
   ],
   "source": [
    "# 로그인\n",
    "upbit = pyupbit.Upbit(access, secret)\n",
    "print(\"Login Success\")"
   ]
  },
  {
   "cell_type": "code",
   "execution_count": 130,
   "metadata": {},
   "outputs": [],
   "source": [
    "# 변동성 돌파 전략으로 매수 목표가 조회\n",
    "def get_target_price(ticker, k):\n",
    "    df = pyupbit.get_ohlcv(ticker, interval=\"day\", count=2)\n",
    "    target_price = df.iloc[0]['close'] + (df.iloc[0]['high'] - df.iloc[0]['low']) * k\n",
    "    return target_price"
   ]
  },
  {
   "cell_type": "code",
   "execution_count": 131,
   "metadata": {},
   "outputs": [],
   "source": [
    "# 시작 시간 조회\n",
    "def get_start_time(ticker):\n",
    "    df = pyupbit.get_ohlcv(ticker, interval=\"day\", count=1)\n",
    "    start_time = df.index[0]\n",
    "    return start_time"
   ]
  },
  {
   "cell_type": "code",
   "execution_count": 132,
   "metadata": {},
   "outputs": [],
   "source": [
    "# 5분봉 차트 15일 이동 평균선 조회\n",
    "def get_ma15(ticker):\n",
    "    df = pyupbit.get_ohlcv(ticker, interval=\"minute5\", count=15)\n",
    "    ma15 = df['close'].rolling(15).mean().iloc[-1]\n",
    "    return ma15"
   ]
  },
  {
   "cell_type": "code",
   "execution_count": 133,
   "metadata": {},
   "outputs": [],
   "source": [
    "# 이전 5분봉 차트 15일 이동 평균선 조회(하락 판단)\n",
    "def get_ma15_pre(ticker):\n",
    "    pre = datetime.datetime.now() - datetime.timedelta(minutes=5)\n",
    "    df = pyupbit.get_ohlcv(ticker, interval=\"minute5\", count=15, to= pre)\n",
    "    ma15 = df['close'].rolling(15).mean().iloc[-1]\n",
    "    return ma15"
   ]
  },
  {
   "cell_type": "code",
   "execution_count": 141,
   "metadata": {},
   "outputs": [],
   "source": [
    "# 5분봉 차트 60일 이동 평균선 조회\n",
    "def get_ma60(ticker):\n",
    "    df = pyupbit.get_ohlcv(ticker, interval=\"minute5\", count=60)\n",
    "    ma15 = df['close'].rolling(60).mean().iloc[-1]\n",
    "    return ma15"
   ]
  },
  {
   "cell_type": "code",
   "execution_count": 142,
   "metadata": {},
   "outputs": [],
   "source": [
    "# 투자내역 조회\n",
    "def get_balance(ticker):\n",
    "    balances = upbit.get_balances()\n",
    "    for b in balances:\n",
    "        if b['currency'] == ticker:\n",
    "            if b['balance'] is not None:\n",
    "                return float(b['balance'])\n",
    "            else:\n",
    "                return 0\n",
    "    return 0"
   ]
  },
  {
   "cell_type": "code",
   "execution_count": 143,
   "metadata": {},
   "outputs": [],
   "source": [
    "# 현재가 조회\n",
    "def get_current_price(ticker):\n",
    "    return pyupbit.get_orderbook(tickers=ticker)[0][\"orderbook_units\"][0][\"ask_price\"]"
   ]
  },
  {
   "cell_type": "code",
   "execution_count": 144,
   "metadata": {},
   "outputs": [
    {
     "data": {
      "text/plain": [
       "55201200.0"
      ]
     },
     "execution_count": 144,
     "metadata": {},
     "output_type": "execute_result"
    }
   ],
   "source": [
    "get_ma15(\"KRW-BTC\")"
   ]
  },
  {
   "cell_type": "code",
   "execution_count": 145,
   "metadata": {},
   "outputs": [
    {
     "data": {
      "text/plain": [
       "54454433.333333336"
      ]
     },
     "execution_count": 145,
     "metadata": {},
     "output_type": "execute_result"
    }
   ],
   "source": [
    "get_ma60(\"KRW-BTC\")"
   ]
  },
  {
   "cell_type": "code",
   "execution_count": 146,
   "metadata": {},
   "outputs": [
    {
     "data": {
      "text/plain": [
       "57366500.0"
      ]
     },
     "execution_count": 146,
     "metadata": {},
     "output_type": "execute_result"
    }
   ],
   "source": [
    "get_target_price(\"KRW-BTC\", 0.5)"
   ]
  },
  {
   "cell_type": "code",
   "execution_count": null,
   "metadata": {},
   "outputs": [
    {
     "name": "stdout",
     "output_type": "stream",
     "text": [
      "-----------------------------------------------------------------------------------\n",
      "현재 시간 :  2021-05-18 10:55:33.760283\n",
      "보유 BTC 수량 0 / 보유 원화 5997.10437954 원 / 골든크로스 상태 :  1.0198613449817717\n",
      "-----------------------------------------------------------------------------------\n",
      "현재 시간 :  2021-05-18 10:56:34.235529\n",
      "보유 BTC 수량 0 / 보유 원화 5997.10437954 원 / 골든크로스 상태 :  1.0198170619980993\n",
      "-----------------------------------------------------------------------------------\n",
      "현재 시간 :  2021-05-18 10:57:34.728705\n",
      "보유 BTC 수량 0 / 보유 원화 5997.10437954 원 / 골든크로스 상태 :  1.0198125114710523\n",
      "-----------------------------------------------------------------------------------\n",
      "현재 시간 :  2021-05-18 10:58:35.168087\n",
      "보유 BTC 수량 0 / 보유 원화 5997.10437954 원 / 골든크로스 상태 :  1.0198079609301087\n",
      "-----------------------------------------------------------------------------------\n",
      "현재 시간 :  2021-05-18 10:59:35.683246\n",
      "보유 BTC 수량 0 / 보유 원화 5997.10437954 원 / 골든크로스 상태 :  1.019810379820592\n",
      "-----------------------------------------------------------------------------------\n",
      "현재 시간 :  2021-05-18 11:00:36.140284\n",
      "보유 BTC 수량 0 / 보유 원화 5997.10437954 원 / 골든크로스 상태 :  1.0209172938619264\n",
      "-----------------------------------------------------------------------------------\n",
      "현재 시간 :  2021-05-18 11:01:36.602994\n",
      "보유 BTC 수량 0 / 보유 원화 5997.10437954 원 / 골든크로스 상태 :  1.0207503939272025\n",
      "-----------------------------------------------------------------------------------\n",
      "현재 시간 :  2021-05-18 11:02:37.054550\n",
      "보유 BTC 수량 0 / 보유 원화 5997.10437954 원 / 골든크로스 상태 :  1.0207581508450456\n",
      "-----------------------------------------------------------------------------------\n",
      "현재 시간 :  2021-05-18 11:03:37.534174\n",
      "보유 BTC 수량 0 / 보유 원화 5997.10437954 원 / 골든크로스 상태 :  1.0206262766070788\n",
      "-----------------------------------------------------------------------------------\n",
      "현재 시간 :  2021-05-18 11:04:38.017434\n",
      "보유 BTC 수량 0 / 보유 원화 5997.10437954 원 / 골든크로스 상태 :  1.0206053575517056\n",
      "-----------------------------------------------------------------------------------\n",
      "현재 시간 :  2021-05-18 11:05:38.512219\n",
      "보유 BTC 수량 0 / 보유 원화 5997.10437954 원 / 골든크로스 상태 :  1.0211102915303396\n",
      "-----------------------------------------------------------------------------------\n",
      "현재 시간 :  2021-05-18 11:06:38.966813\n",
      "보유 BTC 수량 0 / 보유 원화 5997.10437954 원 / 골든크로스 상태 :  1.020997191889961\n",
      "-----------------------------------------------------------------------------------\n",
      "현재 시간 :  2021-05-18 11:07:39.667822\n",
      "보유 BTC 수량 0 / 보유 원화 5997.10437954 원 / 골든크로스 상태 :  1.0211366552204426\n",
      "-----------------------------------------------------------------------------------\n",
      "현재 시간 :  2021-05-18 11:08:40.145737\n",
      "보유 BTC 수량 0 / 보유 원화 5997.10437954 원 / 골든크로스 상태 :  1.0210557444830641\n",
      "-----------------------------------------------------------------------------------\n",
      "현재 시간 :  2021-05-18 11:09:40.663901\n",
      "보유 BTC 수량 0 / 보유 원화 5997.10437954 원 / 골든크로스 상태 :  1.0210766544206287\n",
      "-----------------------------------------------------------------------------------\n",
      "현재 시간 :  2021-05-18 11:10:41.257719\n",
      "보유 BTC 수량 0 / 보유 원화 5997.10437954 원 / 골든크로스 상태 :  1.0212786727911758\n",
      "-----------------------------------------------------------------------------------\n",
      "현재 시간 :  2021-05-18 11:11:41.714539\n",
      "보유 BTC 수량 0 / 보유 원화 5997.10437954 원 / 골든크로스 상태 :  1.0213032076837\n",
      "-----------------------------------------------------------------------------------\n",
      "현재 시간 :  2021-05-18 11:12:42.181958\n",
      "보유 BTC 수량 0 / 보유 원화 5997.10437954 원 / 골든크로스 상태 :  1.0212014306755683\n",
      "-----------------------------------------------------------------------------------\n",
      "현재 시간 :  2021-05-18 11:13:42.621185\n",
      "보유 BTC 수량 0 / 보유 원화 5997.10437954 원 / 골든크로스 상태 :  1.0210396636192176\n",
      "-----------------------------------------------------------------------------------\n",
      "현재 시간 :  2021-05-18 11:14:43.149554\n",
      "보유 BTC 수량 0 / 보유 원화 5997.10437954 원 / 골든크로스 상태 :  1.0209615002068568\n",
      "-----------------------------------------------------------------------------------\n",
      "현재 시간 :  2021-05-18 11:15:43.627686\n",
      "보유 BTC 수량 0 / 보유 원화 5997.10437954 원 / 골든크로스 상태 :  1.0207924101968457\n",
      "-----------------------------------------------------------------------------------\n",
      "현재 시간 :  2021-05-18 11:16:44.106731\n",
      "보유 BTC 수량 0 / 보유 원화 5997.10437954 원 / 골든크로스 상태 :  1.020686996170069\n",
      "-----------------------------------------------------------------------------------\n",
      "현재 시간 :  2021-05-18 11:17:44.673273\n",
      "보유 BTC 수량 0 / 보유 원화 5997.10437954 원 / 골든크로스 상태 :  1.0206106572178786\n",
      "-----------------------------------------------------------------------------------\n",
      "현재 시간 :  2021-05-18 11:18:45.152497\n",
      "보유 BTC 수량 0 / 보유 원화 5997.10437954 원 / 골든크로스 상태 :  1.0206270158941069\n",
      "-----------------------------------------------------------------------------------\n",
      "현재 시간 :  2021-05-18 11:19:45.610724\n",
      "보유 BTC 수량 0 / 보유 원화 5997.10437954 원 / 골든크로스 상태 :  1.0206615502873386\n",
      "-----------------------------------------------------------------------------------\n",
      "현재 시간 :  2021-05-18 11:20:46.076727\n",
      "보유 BTC 수량 0 / 보유 원화 5997.10437954 원 / 골든크로스 상태 :  1.0200008173308293\n",
      "-----------------------------------------------------------------------------------\n",
      "현재 시간 :  2021-05-18 11:21:46.546735\n",
      "보유 BTC 수량 0 / 보유 원화 5997.10437954 원 / 골든크로스 상태 :  1.0201171421130348\n",
      "-----------------------------------------------------------------------------------\n",
      "현재 시간 :  2021-05-18 11:22:46.952579\n",
      "보유 BTC 수량 0 / 보유 원화 5997.10437954 원 / 골든크로스 상태 :  1.0200617072167313\n",
      "-----------------------------------------------------------------------------------\n",
      "현재 시간 :  2021-05-18 11:23:47.413846\n",
      "보유 BTC 수량 0 / 보유 원화 5997.10437954 원 / 골든크로스 상태 :  1.0200417137972393\n",
      "-----------------------------------------------------------------------------------\n",
      "현재 시간 :  2021-05-18 11:24:47.878508\n",
      "보유 BTC 수량 0 / 보유 원화 5997.10437954 원 / 골든크로스 상태 :  1.0200001219891552\n",
      "-----------------------------------------------------------------------------------\n",
      "현재 시간 :  2021-05-18 11:25:48.359010\n",
      "보유 BTC 수량 0 / 보유 원화 5997.10437954 원 / 골든크로스 상태 :  1.0189520903036293\n",
      "-----------------------------------------------------------------------------------\n",
      "현재 시간 :  2021-05-18 11:26:48.873215\n",
      "보유 BTC 수량 0 / 보유 원화 5997.10437954 원 / 골든크로스 상태 :  1.018971177957089\n",
      "-----------------------------------------------------------------------------------\n",
      "현재 시간 :  2021-05-18 11:27:49.355015\n",
      "보유 BTC 수량 0 / 보유 원화 5997.10437954 원 / 골든크로스 상태 :  1.0190502527746366\n",
      "-----------------------------------------------------------------------------------\n",
      "현재 시간 :  2021-05-18 11:28:49.891336\n",
      "보유 BTC 수량 0 / 보유 원화 5997.10437954 원 / 골든크로스 상태 :  1.019018441570796\n",
      "-----------------------------------------------------------------------------------\n",
      "현재 시간 :  2021-05-18 11:29:50.435732\n",
      "보유 BTC 수량 0 / 보유 원화 5997.10437954 원 / 골든크로스 상태 :  1.0190229860700555\n",
      "-----------------------------------------------------------------------------------\n",
      "현재 시간 :  2021-05-18 11:30:50.874209\n",
      "보유 BTC 수량 0 / 보유 원화 5997.10437954 원 / 골든크로스 상태 :  1.0183343392407531\n"
     ]
    }
   ],
   "source": [
    "# 자동매매 시작\n",
    "while True:\n",
    "    try:\n",
    "        now = datetime.datetime.now()\n",
    "        start_time = get_start_time(\"KRW-BTC\")\n",
    "        end_time = start_time + datetime.timedelta(days=1)\n",
    "        ma15 = get_ma15(\"KRW-BTC\")\n",
    "        ma15_pre = get_ma15_pre(\"KRW-BTC\")\n",
    "        ma60 = get_ma60(\"KRW-BTC\")\n",
    "        current_price = get_current_price(\"KRW-BTC\")\n",
    "        krw = get_balance(\"KRW\")\n",
    "        print(\"-----------------------------------------------------------------------------------\")\n",
    "        print(\"현재 시간 : \" , now)\n",
    "            \n",
    "        if ma15 / ma60 >= 1 and ma15 / ma60 <= 1.01 and ma15_pre < ma15:\n",
    "            if krw > 5500:\n",
    "                    print(\"15일 이동평균선이 60일 이동평균선을 넘어섰으므로 매수 합니다.\")\n",
    "                    upbit.buy_market_order(\"KRW-BTC\", krw*0.9995)\n",
    "            else:\n",
    "                print(\"원화가 부족하여 매수를 할 수 없습니다.\")\n",
    "        \n",
    "        else:\n",
    "            btc = get_balance(\"BTC\")\n",
    "            if btc > 0.00008 and ma15_pre - ma15 < 0:\n",
    "                print(\"15일 이동평균선에 하락이 있어 매도합니다.\")\n",
    "                #upbit.sell_market_order(\"KRW-BTC\", btc*0.9995) # 테스트 중\n",
    "\n",
    "        print(\"보유 BTC 수량\" , btc, \"/ 보유 원화\",  krw, \"원\", \"/ 골든크로스 상태 : \", ma15 / ma60)\n",
    "        time.sleep(60)\n",
    "    \n",
    "    except Exception as e:\n",
    "        print(e)\n",
    "        time.sleep(60)"
   ]
  },
  {
   "cell_type": "code",
   "execution_count": null,
   "metadata": {},
   "outputs": [],
   "source": []
  }
 ],
 "metadata": {
  "kernelspec": {
   "display_name": "Python 3",
   "language": "python",
   "name": "python3"
  },
  "language_info": {
   "codemirror_mode": {
    "name": "ipython",
    "version": 3
   },
   "file_extension": ".py",
   "mimetype": "text/x-python",
   "name": "python",
   "nbconvert_exporter": "python",
   "pygments_lexer": "ipython3",
   "version": "3.7.6"
  }
 },
 "nbformat": 4,
 "nbformat_minor": 4
}
