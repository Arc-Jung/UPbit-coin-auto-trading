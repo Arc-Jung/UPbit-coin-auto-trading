{
 "cells": [
  {
   "cell_type": "markdown",
   "metadata": {},
   "source": [
    "# 패키지 설치"
   ]
  },
  {
   "cell_type": "code",
   "execution_count": 61,
   "metadata": {},
   "outputs": [
    {
     "name": "stdout",
     "output_type": "stream",
     "text": [
      "Requirement already satisfied: jwt in /opt/anaconda3/lib/python3.7/site-packages (1.2.0)\n",
      "Requirement already satisfied: cryptography!=3.4.0,~=3.1 in /opt/anaconda3/lib/python3.7/site-packages (from jwt) (3.4.6)\n",
      "Requirement already satisfied: cffi>=1.12 in /opt/anaconda3/lib/python3.7/site-packages (from cryptography!=3.4.0,~=3.1->jwt) (1.14.0)\n",
      "Requirement already satisfied: pycparser in /opt/anaconda3/lib/python3.7/site-packages (from cffi>=1.12->cryptography!=3.4.0,~=3.1->jwt) (2.19)\n",
      "\u001b[33mWARNING: You are using pip version 20.1.1; however, version 21.1.1 is available.\n",
      "You should consider upgrading via the '/opt/anaconda3/bin/python -m pip install --upgrade pip' command.\u001b[0m\n",
      "Requirement already satisfied: PyJWT in /opt/anaconda3/lib/python3.7/site-packages (2.0.1)\n",
      "\u001b[33mWARNING: You are using pip version 20.1.1; however, version 21.1.1 is available.\n",
      "You should consider upgrading via the '/opt/anaconda3/bin/python -m pip install --upgrade pip' command.\u001b[0m\n",
      "Requirement already satisfied: pyupbit in /opt/anaconda3/lib/python3.7/site-packages (0.2.19)\n",
      "Requirement already satisfied: pandas in /opt/anaconda3/lib/python3.7/site-packages (from pyupbit) (1.0.1)\n",
      "Requirement already satisfied: websockets in /opt/anaconda3/lib/python3.7/site-packages (from pyupbit) (9.0.2)\n",
      "Requirement already satisfied: pyjwt>=2.0.0 in /opt/anaconda3/lib/python3.7/site-packages (from pyupbit) (2.0.1)\n",
      "Requirement already satisfied: requests in /opt/anaconda3/lib/python3.7/site-packages (from pyupbit) (2.23.0)\n",
      "Requirement already satisfied: python-dateutil>=2.6.1 in /opt/anaconda3/lib/python3.7/site-packages (from pandas->pyupbit) (2.8.0)\n",
      "Requirement already satisfied: numpy>=1.13.3 in /opt/anaconda3/lib/python3.7/site-packages (from pandas->pyupbit) (1.18.1)\n",
      "Requirement already satisfied: pytz>=2017.2 in /opt/anaconda3/lib/python3.7/site-packages (from pandas->pyupbit) (2019.3)\n",
      "Requirement already satisfied: chardet<4,>=3.0.2 in /opt/anaconda3/lib/python3.7/site-packages (from requests->pyupbit) (3.0.4)\n",
      "Requirement already satisfied: urllib3!=1.25.0,!=1.25.1,<1.26,>=1.21.1 in /opt/anaconda3/lib/python3.7/site-packages (from requests->pyupbit) (1.25.11)\n",
      "Requirement already satisfied: idna<3,>=2.5 in /opt/anaconda3/lib/python3.7/site-packages (from requests->pyupbit) (2.10)\n",
      "Requirement already satisfied: certifi>=2017.4.17 in /opt/anaconda3/lib/python3.7/site-packages (from requests->pyupbit) (2020.12.5)\n",
      "Requirement already satisfied: six>=1.5 in /opt/anaconda3/lib/python3.7/site-packages (from python-dateutil>=2.6.1->pandas->pyupbit) (1.15.0)\n",
      "\u001b[33mWARNING: You are using pip version 20.1.1; however, version 21.1.1 is available.\n",
      "You should consider upgrading via the '/opt/anaconda3/bin/python -m pip install --upgrade pip' command.\u001b[0m\n"
     ]
    }
   ],
   "source": [
    "!pip3 install jwt\n",
    "!pip3 install PyJWT\n",
    "!pip3 install pyupbit"
   ]
  },
  {
   "cell_type": "markdown",
   "metadata": {},
   "source": [
    "# 참조\n",
    "- 링크를 통하여 API Key 발급\n",
    "> https://upbit.com/service_center/open_api_guide\n",
    "- API Reference\n",
    "> https://docs.upbit.com/reference\n",
    "- 파이썬을 이용한 비트코인 자동매매 \n",
    "> https://github.com/sharebook-kr/book-cryptocurrency\n",
    "> https://wikidocs.net/book/1665\n",
    "- 파이썬 비트코인 투자 자동화 강의 코드\n",
    "> https://github.com/youtube-jocoding/pyupbit-autotrade\n",
    "- pyupbit 업비트 파이썬 API\n",
    "> https://github.com/sharebook-kr/pyupbit\n",
    "\n",
    "### 해당 어플리케이션은 아직 미완성이므로 참조용으로만 사용하시길 바랍니다. 모든 투자는 본인의 선택이며 투자 손실에 대한 책임은 본인에게 있습니다."
   ]
  },
  {
   "cell_type": "code",
   "execution_count": 154,
   "metadata": {},
   "outputs": [],
   "source": [
    "access_key = '<YOUR ACCESSKEY>' # <YOUR ACCESSKEY> 경고 : 외부 노출 주의!!!\n",
    "secret_key = '<YOUR SECRETKEY>' # <YOUR SECRETKEY> 경고 : 외부 노출 주의!!!\n",
    "server_url = 'https://api.upbit.com'"
   ]
  },
  {
   "cell_type": "code",
   "execution_count": 155,
   "metadata": {},
   "outputs": [],
   "source": [
    "import time\n",
    "import pyupbit\n",
    "import datetime\n",
    "\n",
    "access = access_key\n",
    "secret = secret_key"
   ]
  },
  {
   "cell_type": "code",
   "execution_count": 129,
   "metadata": {},
   "outputs": [
    {
     "name": "stdout",
     "output_type": "stream",
     "text": [
      "Login Success\n"
     ]
    }
   ],
   "source": [
    "# 로그인\n",
    "upbit = pyupbit.Upbit(access, secret)\n",
    "print(\"Login Success\")"
   ]
  },
  {
   "cell_type": "code",
   "execution_count": 130,
   "metadata": {},
   "outputs": [],
   "source": [
    "# 변동성 돌파 전략으로 매수 목표가 조회\n",
    "def get_target_price(ticker, k):\n",
    "    df = pyupbit.get_ohlcv(ticker, interval=\"day\", count=2)\n",
    "    target_price = df.iloc[0]['close'] + (df.iloc[0]['high'] - df.iloc[0]['low']) * k\n",
    "    return target_price"
   ]
  },
  {
   "cell_type": "code",
   "execution_count": 131,
   "metadata": {},
   "outputs": [],
   "source": [
    "# 시작 시간 조회\n",
    "def get_start_time(ticker):\n",
    "    df = pyupbit.get_ohlcv(ticker, interval=\"day\", count=1)\n",
    "    start_time = df.index[0]\n",
    "    return start_time"
   ]
  },
  {
   "cell_type": "code",
   "execution_count": 132,
   "metadata": {},
   "outputs": [],
   "source": [
    "# 5분봉 차트 15일 이동 평균선 조회\n",
    "def get_ma15(ticker):\n",
    "    df = pyupbit.get_ohlcv(ticker, interval=\"minute5\", count=15)\n",
    "    ma15 = df['close'].rolling(15).mean().iloc[-1]\n",
    "    return ma15"
   ]
  },
  {
   "cell_type": "code",
   "execution_count": 133,
   "metadata": {},
   "outputs": [],
   "source": [
    "# 이전 5분봉 차트 15일 이동 평균선 조회(하락 판단)\n",
    "def get_ma15_pre(ticker):\n",
    "    pre = datetime.datetime.now() - datetime.timedelta(minutes=5)\n",
    "    df = pyupbit.get_ohlcv(ticker, interval=\"minute5\", count=15, to= pre)\n",
    "    ma15 = df['close'].rolling(15).mean().iloc[-1]\n",
    "    return ma15"
   ]
  },
  {
   "cell_type": "code",
   "execution_count": 237,
   "metadata": {},
   "outputs": [],
   "source": [
    "# 5분봉 차트 7일 이동 평균선 조회\n",
    "def get_ma7(ticker):\n",
    "    df = pyupbit.get_ohlcv(ticker, interval=\"minute5\", count=15)\n",
    "    ma15 = df['close'].rolling(7).mean().iloc[-1]\n",
    "    return ma15"
   ]
  },
  {
   "cell_type": "code",
   "execution_count": 238,
   "metadata": {},
   "outputs": [],
   "source": [
    "# 이전 5분봉 차트 7일 이동 평균선 조회(하락 판단)\n",
    "def get_ma7_pre(ticker):\n",
    "    pre = datetime.datetime.now() - datetime.timedelta(minutes=5)\n",
    "    df = pyupbit.get_ohlcv(ticker, interval=\"minute5\", count=15, to= pre)\n",
    "    ma15 = df['close'].rolling(7).mean().iloc[-1]\n",
    "    return ma15"
   ]
  },
  {
   "cell_type": "code",
   "execution_count": 141,
   "metadata": {},
   "outputs": [],
   "source": [
    "# 5분봉 차트 60일 이동 평균선 조회\n",
    "def get_ma60(ticker):\n",
    "    df = pyupbit.get_ohlcv(ticker, interval=\"minute5\", count=60)\n",
    "    ma15 = df['close'].rolling(60).mean().iloc[-1]\n",
    "    return ma15"
   ]
  },
  {
   "cell_type": "code",
   "execution_count": 142,
   "metadata": {},
   "outputs": [],
   "source": [
    "# 투자내역 조회\n",
    "def get_balance(ticker):\n",
    "    balances = upbit.get_balances()\n",
    "    for b in balances:\n",
    "        if b['currency'] == ticker:\n",
    "            if b['balance'] is not None:\n",
    "                return float(b['balance'])\n",
    "            else:\n",
    "                return 0\n",
    "    return 0"
   ]
  },
  {
   "cell_type": "code",
   "execution_count": 143,
   "metadata": {},
   "outputs": [],
   "source": [
    "# 현재가 조회\n",
    "def get_current_price(ticker):\n",
    "    return pyupbit.get_orderbook(tickers=ticker)[0][\"orderbook_units\"][0][\"ask_price\"]"
   ]
  },
  {
   "cell_type": "code",
   "execution_count": 229,
   "metadata": {},
   "outputs": [
    {
     "name": "stdout",
     "output_type": "stream",
     "text": [
      "-----------------------------------------------------------------------------------------------------------------------------------------------------\n",
      "현재 시간 :  2021-05-18 19:11:34.574165\n",
      "보유 BTC :  0.00010602 BTC / 보유 원화 :  0 원 / 골든크로스 비율 :  0.9939546821219085 / 이전 15일 이동평균선과 가격차이 :  -13066 원 / 이전 15일 이동평균선과 변화비율 :  0.9997622807464385\n",
      "-----------------------------------------------------------------------------------------------------------------------------------------------------\n",
      "현재 시간 :  2021-05-18 19:12:35.062983\n",
      "보유 BTC :  0.00010602 BTC / 보유 원화 :  0 원 / 골든크로스 비율 :  0.9940163009827735 / 이전 15일 이동평균선과 가격차이 :  -8533 원 / 이전 15일 이동평균선과 변화비율 :  0.9998447547731842\n",
      "-----------------------------------------------------------------------------------------------------------------------------------------------------\n",
      "현재 시간 :  2021-05-18 19:13:35.590252\n",
      "보유 BTC :  0.00010602 BTC / 보유 원화 :  0 원 / 골든크로스 비율 :  0.9939673685644796 / 이전 15일 이동평균선과 가격차이 :  -12133 원 / 이전 15일 이동평균선과 변화비율 :  0.9997792606931214\n",
      "-----------------------------------------------------------------------------------------------------------------------------------------------------\n",
      "현재 시간 :  2021-05-18 19:14:36.085401\n",
      "보유 BTC :  0.00010602 BTC / 보유 원화 :  0 원 / 골든크로스 비율 :  0.9939546821219085 / 이전 15일 이동평균선과 가격차이 :  -13066 원 / 이전 15일 이동평균선과 변화비율 :  0.9997622807464385\n",
      "-----------------------------------------------------------------------------------------------------------------------------------------------------\n",
      "현재 시간 :  2021-05-18 19:15:36.544690\n",
      "보유 BTC :  0.00010602 BTC / 보유 원화 :  0 원 / 골든크로스 비율 :  0.9939120343080129 / 이전 15일 이동평균선과 가격차이 :  -14533 원 / 이전 15일 이동평균선과 변화비율 :  0.9997355351046819\n",
      "-----------------------------------------------------------------------------------------------------------------------------------------------------\n",
      "현재 시간 :  2021-05-18 19:16:36.992193\n",
      "보유 BTC :  0.00010602 BTC / 보유 원화 :  0 원 / 골든크로스 비율 :  0.99395372776066 / 이전 15일 이동평균선과 가격차이 :  -11466 원 / 이전 15일 이동평균선과 변화비율 :  0.9997913396238775\n",
      "-----------------------------------------------------------------------------------------------------------------------------------------------------\n",
      "현재 시간 :  2021-05-18 19:17:37.470955\n",
      "보유 BTC :  0.00010602 BTC / 보유 원화 :  0 원 / 골든크로스 비율 :  0.9939319747992275 / 이전 15일 이동평균선과 가격차이 :  -13066 원 / 이전 15일 이동평균선과 변화비율 :  0.999762224222558\n"
     ]
    },
    {
     "ename": "KeyboardInterrupt",
     "evalue": "",
     "output_type": "error",
     "traceback": [
      "\u001b[0;31m---------------------------------------------------------------------------\u001b[0m",
      "\u001b[0;31mKeyboardInterrupt\u001b[0m                         Traceback (most recent call last)",
      "\u001b[0;32m<ipython-input-229-a46deb421b29>\u001b[0m in \u001b[0;36m<module>\u001b[0;34m\u001b[0m\n\u001b[1;32m     27\u001b[0m \u001b[0;34m\u001b[0m\u001b[0m\n\u001b[1;32m     28\u001b[0m         \u001b[0mprint\u001b[0m\u001b[0;34m(\u001b[0m\u001b[0;34m\"보유 BTC : \"\u001b[0m \u001b[0;34m,\u001b[0m \u001b[0mfloat\u001b[0m\u001b[0;34m(\u001b[0m\u001b[0mbtc\u001b[0m\u001b[0;34m)\u001b[0m\u001b[0;34m,\u001b[0m \u001b[0;34m\"BTC\"\u001b[0m\u001b[0;34m,\u001b[0m \u001b[0;34m\"/ 보유 원화 : \"\u001b[0m\u001b[0;34m,\u001b[0m  \u001b[0mint\u001b[0m\u001b[0;34m(\u001b[0m\u001b[0mkrw\u001b[0m\u001b[0;34m)\u001b[0m\u001b[0;34m,\u001b[0m \u001b[0;34m\"원\"\u001b[0m\u001b[0;34m,\u001b[0m \u001b[0;34m\"/ 골든크로스 비율 : \"\u001b[0m\u001b[0;34m,\u001b[0m \u001b[0mma15\u001b[0m \u001b[0;34m/\u001b[0m \u001b[0mma60\u001b[0m\u001b[0;34m,\u001b[0m \u001b[0;34m\"/ 이전 15일 이동평균선과 가격차이 : \"\u001b[0m\u001b[0;34m,\u001b[0m \u001b[0mint\u001b[0m\u001b[0;34m(\u001b[0m\u001b[0mma15\u001b[0m \u001b[0;34m-\u001b[0m \u001b[0mma15_pre\u001b[0m\u001b[0;34m)\u001b[0m\u001b[0;34m,\u001b[0m \u001b[0;34m\"원\"\u001b[0m\u001b[0;34m,\u001b[0m \u001b[0;34m\"/ 이전 15일 이동평균선과 변화비율 : \"\u001b[0m\u001b[0;34m,\u001b[0m \u001b[0mma15\u001b[0m \u001b[0;34m/\u001b[0m \u001b[0mma15_pre\u001b[0m\u001b[0;34m)\u001b[0m\u001b[0;34m\u001b[0m\u001b[0;34m\u001b[0m\u001b[0m\n\u001b[0;32m---> 29\u001b[0;31m         \u001b[0mtime\u001b[0m\u001b[0;34m.\u001b[0m\u001b[0msleep\u001b[0m\u001b[0;34m(\u001b[0m\u001b[0;36m60\u001b[0m\u001b[0;34m)\u001b[0m\u001b[0;34m\u001b[0m\u001b[0;34m\u001b[0m\u001b[0m\n\u001b[0m\u001b[1;32m     30\u001b[0m \u001b[0;34m\u001b[0m\u001b[0m\n\u001b[1;32m     31\u001b[0m     \u001b[0;32mexcept\u001b[0m \u001b[0mException\u001b[0m \u001b[0;32mas\u001b[0m \u001b[0me\u001b[0m\u001b[0;34m:\u001b[0m\u001b[0;34m\u001b[0m\u001b[0;34m\u001b[0m\u001b[0m\n",
      "\u001b[0;31mKeyboardInterrupt\u001b[0m: "
     ]
    }
   ],
   "source": [
    "# 비트코인 BTC 자동매매 시작\n",
    "while True:\n",
    "    try:\n",
    "        now = datetime.datetime.now()\n",
    "        start_time = get_start_time(\"KRW-BTC\")\n",
    "        end_time = start_time + datetime.timedelta(days=1)\n",
    "        ma15 = get_ma15(\"KRW-BTC\")\n",
    "        ma15_pre = get_ma15_pre(\"KRW-BTC\")\n",
    "        ma60 = get_ma60(\"KRW-BTC\")\n",
    "        current_price = get_current_price(\"KRW-BTC\")\n",
    "        krw = get_balance(\"KRW\")\n",
    "        print(\"------------------------------------------------------------------------------\")\n",
    "        print(\"현재 시간 : \" , now)\n",
    "            \n",
    "        if ma15 / ma60 >= 1.0 and ma15 / ma60 <= 1.005 and ma15_pre < ma15 and ma15_pre < ma60:\n",
    "            if krw > 5500:\n",
    "                    print(\"15일 이동평균선이 60일 이동평균선을 넘어섰으므로 매수 합니다.\")\n",
    "                    upbit.buy_market_order(\"KRW-BTC\", krw*0.9995)\n",
    "            else:\n",
    "                print(\"미네랄이 부족합니다.\")\n",
    "        \n",
    "        else:\n",
    "            btc = get_balance(\"BTC\")\n",
    "            if ma15 / ma15_pre < 0.99975 and ma15 / ma60 >= 1.005:\n",
    "                print(\"15일 이동평균선이 하락하여 매도합니다.\")\n",
    "                upbit.sell_market_order(\"KRW-BTC\", btc*0.9995) # 테스트 중\n",
    "\n",
    "        print(\"보유 BTC : \" , float(btc), \"BTC\", \"/ 보유 원화 : \",  int(krw), \"원\", \"/ 골든크로스 비율 : \", ma15 / ma60, \"/ 이전 15일 이동평균선과 가격차이 : \", int(ma15 - ma15_pre), \"원\", \"/ 이전 15일 이동평균선과 변화비율 : \", ma15 / ma15_pre)\n",
    "        time.sleep(60)\n",
    "    \n",
    "    except Exception as e:\n",
    "        print(e)\n",
    "        time.sleep(60)"
   ]
  },
  {
   "cell_type": "code",
   "execution_count": null,
   "metadata": {},
   "outputs": [
    {
     "name": "stdout",
     "output_type": "stream",
     "text": [
      "------------------------------------------------------------------------------\n",
      "현재 시간 :  2021-05-20 02:22:35.600619\n",
      "7일 이동평균선이 하락하여 매도합니다.\n",
      "보유 EOS :  0.00060853 EOS / 보유 원화 :  10425 원 / 골든크로스 비율 :  1.0460027843676407 / 이전 7일 이동평균선과 가격차이 :  -16 / 7일 이동평균선 기울기 :  0.9980963416652873 원 / 이전 7일 이동평균선과 변화비율 :  0.9980963416652873\n",
      "------------------------------------------------------------------------------\n",
      "현재 시간 :  2021-05-20 02:23:36.191017\n",
      "7일 이동평균선이 하락하여 매도합니다.\n",
      "보유 EOS :  0.00060853 EOS / 보유 원화 :  10425 원 / 골든크로스 비율 :  1.0458504709377552 / 이전 7일 이동평균선과 가격차이 :  -17 / 7일 이동평균선 기울기 :  0.9979308061579208 원 / 이전 7일 이동평균선과 변화비율 :  0.9979308061579208\n",
      "------------------------------------------------------------------------------\n",
      "현재 시간 :  2021-05-20 02:24:36.816137\n",
      "7일 이동평균선이 하락하여 매도합니다.\n",
      "보유 EOS :  0.00060853 EOS / 보유 원화 :  10425 원 / 골든크로스 비율 :  1.0463835409697668 / 이전 7일 이동평균선과 가격차이 :  -12 / 7일 이동평균선 기울기 :  0.998510180433703 원 / 이전 7일 이동평균선과 변화비율 :  0.998510180433703\n",
      "------------------------------------------------------------------------------\n",
      "현재 시간 :  2021-05-20 02:25:37.452135\n",
      "보유 EOS :  0.00060853 EOS / 보유 원화 :  10425 원 / 골든크로스 비율 :  1.0505079178409942 / 이전 7일 이동평균선과 가격차이 :  19 / 7일 이동평균선 기울기 :  1.002238434753772 원 / 이전 7일 이동평균선과 변화비율 :  1.002238434753772\n",
      "------------------------------------------------------------------------------\n",
      "현재 시간 :  2021-05-20 02:26:37.990905\n",
      "보유 EOS :  0.00060853 EOS / 보유 원화 :  10425 원 / 골든크로스 비율 :  1.050518568082971 / 이전 7일 이동평균선과 가격차이 :  19 / 7일 이동평균선 기울기 :  1.002238434753772 원 / 이전 7일 이동평균선과 변화비율 :  1.002238434753772\n",
      "------------------------------------------------------------------------------\n",
      "현재 시간 :  2021-05-20 02:27:38.610240\n",
      "보유 EOS :  0.00060853 EOS / 보유 원화 :  10425 원 / 골든크로스 비율 :  1.050823549176161 / 이전 7일 이동평균선과 가격차이 :  22 / 7일 이동평균선 기울기 :  1.002570054717294 원 / 이전 7일 이동평균선과 변화비율 :  1.002570054717294\n"
     ]
    }
   ],
   "source": [
    "# 이오스 EOS 자동매매 시작\n",
    "while True:\n",
    "    try:\n",
    "        now = datetime.datetime.now()\n",
    "        start_time = get_start_time(\"KRW-EOS\")\n",
    "        end_time = start_time + datetime.timedelta(days=1)\n",
    "        ma7 = get_ma7(\"KRW-EOS\")\n",
    "        ma7_pre = get_ma7_pre(\"KRW-EOS\")\n",
    "        ma60 = get_ma60(\"KRW-EOS\")\n",
    "        current_price = get_current_price(\"KRW-EOS\")\n",
    "        krw = get_balance(\"KRW\")\n",
    "        print(\"------------------------------------------------------------------------------\")\n",
    "        print(\"현재 시간 : \" , now)\n",
    "            \n",
    "        if ma7 / ma60 >= 1.0 and ma7 / ma60 <= 1.005 and ma7_pre < ma7 and ma7_pre < ma60:\n",
    "            if krw > 5500:\n",
    "                    print(\"7일 이동평균선이 60일 이동평균선을 넘어섰으므로 매수 합니다.\")\n",
    "                    upbit.buy_market_order(\"KRW-EOS\", krw*0.9995)\n",
    "            else:\n",
    "                print(\"미네랄이 부족합니다.\")\n",
    "        \n",
    "        else:\n",
    "            eos = get_balance(\"EOS\")\n",
    "            if ma7 / ma7_pre < 0.997 and ma7 / ma60 >= 1.005:\n",
    "                print(\"7일 이동평균선이 하락하여 매도합니다.\")\n",
    "                upbit.sell_market_order(\"KRW-EOS\", eos*0.9995) # 테스트 중\n",
    "\n",
    "        print(\"보유 EOS : \" , float(eos), \"EOS\", \"/ 보유 원화 : \",  int(krw), \"원\", \"/ 골든크로스 비율 : \", ma7 / ma60, \"/ 이전 7일 이동평균선과 가격차이 : \", int(ma7 - ma7_pre), \"/ 7일 이동평균선 기울기 : \", ma7 / ma7_pre, \"원\", \"/ 이전 7일 이동평균선과 변화비율 : \", ma7 / ma7_pre)\n",
    "        time.sleep(60)\n",
    "    \n",
    "    except Exception as e:\n",
    "        print(e)\n",
    "        time.sleep(60)"
   ]
  },
  {
   "cell_type": "code",
   "execution_count": null,
   "metadata": {},
   "outputs": [],
   "source": []
  }
 ],
 "metadata": {
  "kernelspec": {
   "display_name": "Python 3",
   "language": "python",
   "name": "python3"
  },
  "language_info": {
   "codemirror_mode": {
    "name": "ipython",
    "version": 3
   },
   "file_extension": ".py",
   "mimetype": "text/x-python",
   "name": "python",
   "nbconvert_exporter": "python",
   "pygments_lexer": "ipython3",
   "version": "3.7.6"
  }
 },
 "nbformat": 4,
 "nbformat_minor": 4
}
